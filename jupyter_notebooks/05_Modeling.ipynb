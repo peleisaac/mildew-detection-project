{
 "cells": [
  {
   "cell_type": "markdown",
   "id": "266ab555-7c9d-408e-b117-4b4a7561ae67",
   "metadata": {},
   "source": [
    "## 05_Modeling.ipynb\n",
    "###  **🎯 Objective:**\n",
    "\n",
    "The objective of this notebook is to define, compile, and train a Convolutional Neural Network (CNN) model to detect powdery mildew in cherry leaf images. This phase follows the preprocessing stage and forms the core of the modeling step in the CRISP-DM methodology.\n",
    "\n"
   ]
  },
  {
   "cell_type": "markdown",
   "id": "b0d0b47b-c83c-45ea-a0f4-878ae0c366c1",
   "metadata": {},
   "source": [
    "## Model Architecture\n",
    "We define a deep learning model using TensorFlow Keras. The model consists of:\n",
    " - Convolutional layers for feature extraction\n",
    " - MaxPooling layers to reduce spatial dimensions\n",
    " - GlobalAveragePooling to reduce the feature map\n",
    " - Dense layers for decision making\n",
    " - Dropout layer for regularization\n",
    " - Sigmoid activation for binary classification"
   ]
  },
  {
   "cell_type": "code",
   "execution_count": 1,
   "id": "a7b0dba1-7c7e-4f53-ae20-6c832ee32061",
   "metadata": {},
   "outputs": [
    {
     "name": "stderr",
     "output_type": "stream",
     "text": [
      "2025-06-05 01:31:56.410172: I tensorflow/core/platform/cpu_feature_guard.cc:182] This TensorFlow binary is optimized to use available CPU instructions in performance-critical operations.\n",
      "To enable the following instructions: AVX2 FMA, in other operations, rebuild TensorFlow with the appropriate compiler flags.\n"
     ]
    }
   ],
   "source": [
    "from tensorflow.keras.models import Sequential\n",
    "from tensorflow.keras.layers import Conv2D, MaxPooling2D, Dense, Dropout, GlobalAveragePooling2D\n",
    "from tensorflow.keras.callbacks import EarlyStopping, ModelCheckpoint\n",
    "from tensorflow.keras.preprocessing.image import ImageDataGenerator\n",
    "import json, pickle"
   ]
  },
  {
   "cell_type": "code",
   "execution_count": 2,
   "id": "a4719ab9-29ac-4168-908a-f257ce99e186",
   "metadata": {},
   "outputs": [],
   "source": [
    "# === Model Definition ===\n",
    "model = Sequential([\n",
    "    Conv2D(32, (3, 3), activation='relu', input_shape=(256, 256, 3)),\n",
    "    MaxPooling2D(2, 2),\n",
    "    Conv2D(64, (3, 3), activation='relu'),\n",
    "    MaxPooling2D(2, 2),\n",
    "    Conv2D(128, (3, 3), activation='relu'),\n",
    "    MaxPooling2D(2, 2),\n",
    "    GlobalAveragePooling2D(),\n",
    "    Dense(128, activation='relu'),\n",
    "    Dropout(0.5),\n",
    "    # Dense(1, activation='sigmoid')\n",
    "    Dense(2, activation='softmax') \n",
    "])"
   ]
  },
  {
   "cell_type": "markdown",
   "id": "8fea4daa-b423-4b94-b4e3-1a35ba2222d9",
   "metadata": {},
   "source": [
    "### Compile the Model\n",
    "We compile the model using:\n",
    " - Loss function: binary_crossentropy (for binary classification)\n",
    " - Optimizer: adam\n",
    " - Evaluation metric: accuracy"
   ]
  },
  {
   "cell_type": "code",
   "execution_count": 3,
   "id": "9f3d3de5-3aa7-442e-9b1a-5b7a87960451",
   "metadata": {},
   "outputs": [],
   "source": [
    "# model.compile(optimizer='adam', loss='binary_crossentropy', metrics=['accuracy'])\n",
    "model.compile(optimizer='adam', loss='categorical_crossentropy', metrics=['accuracy'])"
   ]
  },
  {
   "cell_type": "markdown",
   "id": "0e00fe2f-7083-4b4d-9f5d-e16cfbeb4c15",
   "metadata": {},
   "source": [
    " ### Load Train and Validation Data"
   ]
  },
  {
   "cell_type": "markdown",
   "id": "21ab69ba-8f51-44d9-aca8-ac4490f1f7a4",
   "metadata": {},
   "source": [
    "### Load Preprocessed Data\n",
    "Using ImageDataGenerator, we load:\n",
    " - Augmented training images\n",
    " - Rescaled validation images\n",
    "\n",
    "This step prepares the model to be trained on realistic and varied data, improving generalization."
   ]
  },
  {
   "cell_type": "code",
   "execution_count": 4,
   "id": "76ca2f3e-8934-450f-9f28-b89ed233ac1d",
   "metadata": {},
   "outputs": [],
   "source": [
    "# === Image Augmentation ===\n",
    "img_shape = (256, 256)\n",
    "batch_size = 32\n",
    "\n",
    "train_aug = ImageDataGenerator(\n",
    "    rotation_range=20,\n",
    "    width_shift_range=0.10,\n",
    "    height_shift_range=0.10,\n",
    "    shear_range=0.1,\n",
    "    zoom_range=0.1,\n",
    "    horizontal_flip=True,\n",
    "    vertical_flip=True,\n",
    "    fill_mode='nearest',\n",
    "    rescale=1./255\n",
    ")\n",
    "\n",
    "test_aug = ImageDataGenerator(rescale=1./255)"
   ]
  },
  {
   "cell_type": "code",
   "execution_count": 5,
   "id": "bd747e02-eb19-4308-8da6-e4a61661022e",
   "metadata": {},
   "outputs": [
    {
     "name": "stdout",
     "output_type": "stream",
     "text": [
      "Found 3820 images belonging to 2 classes.\n",
      "Found 1511 images belonging to 2 classes.\n"
     ]
    }
   ],
   "source": [
    "# === Data Loaders with class_mode='categorical' ===\n",
    "train_data = train_aug.flow_from_directory(\n",
    "    \"../inputs/split-leaves/train\",\n",
    "    target_size=img_shape,\n",
    "    batch_size=batch_size,\n",
    "    class_mode='categorical'  # <-- Updated from 'binary'\n",
    ")\n",
    "\n",
    "val_data = test_aug.flow_from_directory(\n",
    "    \"../inputs/split-leaves/validation\",\n",
    "    target_size=img_shape,\n",
    "    batch_size=batch_size,\n",
    "    class_mode='categorical',  # <-- Updated from 'binary'\n",
    "    shuffle=False\n",
    ")\n"
   ]
  },
  {
   "cell_type": "code",
   "execution_count": 6,
   "id": "d6db7af2-6e03-4ffc-ab9a-d3d5444e1c75",
   "metadata": {},
   "outputs": [
    {
     "name": "stdout",
     "output_type": "stream",
     "text": [
      "Model: \"sequential\"\n",
      "_________________________________________________________________\n",
      " Layer (type)                Output Shape              Param #   \n",
      "=================================================================\n",
      " conv2d (Conv2D)             (None, 254, 254, 32)      896       \n",
      "                                                                 \n",
      " max_pooling2d (MaxPooling2  (None, 127, 127, 32)      0         \n",
      " D)                                                              \n",
      "                                                                 \n",
      " conv2d_1 (Conv2D)           (None, 125, 125, 64)      18496     \n",
      "                                                                 \n",
      " max_pooling2d_1 (MaxPoolin  (None, 62, 62, 64)        0         \n",
      " g2D)                                                            \n",
      "                                                                 \n",
      " conv2d_2 (Conv2D)           (None, 60, 60, 128)       73856     \n",
      "                                                                 \n",
      " max_pooling2d_2 (MaxPoolin  (None, 30, 30, 128)       0         \n",
      " g2D)                                                            \n",
      "                                                                 \n",
      " global_average_pooling2d (  (None, 128)               0         \n",
      " GlobalAveragePooling2D)                                         \n",
      "                                                                 \n",
      " dense (Dense)               (None, 128)               16512     \n",
      "                                                                 \n",
      " dropout (Dropout)           (None, 128)               0         \n",
      "                                                                 \n",
      " dense_1 (Dense)             (None, 2)                 258       \n",
      "                                                                 \n",
      "=================================================================\n",
      "Total params: 110018 (429.76 KB)\n",
      "Trainable params: 110018 (429.76 KB)\n",
      "Non-trainable params: 0 (0.00 Byte)\n",
      "_________________________________________________________________\n"
     ]
    }
   ],
   "source": [
    "# === Summary & Training ===\n",
    "model.summary()"
   ]
  },
  {
   "cell_type": "markdown",
   "id": "e1fbba9e-0c40-46a0-84a2-e4382988a6a3",
   "metadata": {},
   "source": [
    "### Train the Model and Save Artifacts"
   ]
  },
  {
   "cell_type": "markdown",
   "id": "73571e64-84f4-46fe-941c-0ec022af2900",
   "metadata": {},
   "source": [
    "### Training the Model\n",
    "We train the model using model.fit(...) with:\n",
    " - EarlyStopping to prevent overfitting\n",
    " - ModelCheckpoint to save the best-performing model based on validation loss\n",
    " - We run the model for up to 20 epochs, monitoring both training and validation accuracy/loss."
   ]
  },
  {
   "cell_type": "code",
   "execution_count": 7,
   "id": "26687094-659d-49e3-a1af-a04f8d6489c1",
   "metadata": {},
   "outputs": [
    {
     "name": "stdout",
     "output_type": "stream",
     "text": [
      "TensorFlow version: 2.13.0\n",
      "Keras version: 2.13.1\n"
     ]
    }
   ],
   "source": [
    "import tensorflow as tf\n",
    "import keras\n",
    "print(f\"TensorFlow version: {tf.__version__}\")\n",
    "print(f\"Keras version: {keras.__version__}\")"
   ]
  },
  {
   "cell_type": "code",
   "execution_count": 8,
   "id": "8a9190d3-d1a9-4649-afdf-f1e7c1d02768",
   "metadata": {},
   "outputs": [
    {
     "name": "stdout",
     "output_type": "stream",
     "text": [
      "Epoch 1/20\n",
      "120/120 [==============================] - 264s 2s/step - loss: 0.5067 - accuracy: 0.7188 - val_loss: 0.1494 - val_accuracy: 0.9729\n",
      "Epoch 2/20\n"
     ]
    },
    {
     "name": "stderr",
     "output_type": "stream",
     "text": [
      "/Users/dappiah/Documents/projects/SmartLeaf/venv/lib/python3.10/site-packages/keras/src/engine/training.py:3000: UserWarning: You are saving your model as an HDF5 file via `model.save()`. This file format is considered legacy. We recommend using instead the native Keras format, e.g. `model.save('my_model.keras')`.\n",
      "  saving_api.save_model(\n"
     ]
    },
    {
     "name": "stdout",
     "output_type": "stream",
     "text": [
      "120/120 [==============================] - 170s 1s/step - loss: 0.1151 - accuracy: 0.9675 - val_loss: 0.0836 - val_accuracy: 0.9848\n",
      "Epoch 3/20\n",
      "120/120 [==============================] - 172s 1s/step - loss: 0.0435 - accuracy: 0.9877 - val_loss: 0.0874 - val_accuracy: 0.9808\n",
      "Epoch 4/20\n",
      "120/120 [==============================] - 194s 2s/step - loss: 0.0737 - accuracy: 0.9788 - val_loss: 0.0440 - val_accuracy: 0.9887\n",
      "Epoch 5/20\n",
      "120/120 [==============================] - 174s 1s/step - loss: 0.0228 - accuracy: 0.9919 - val_loss: 0.0250 - val_accuracy: 0.9914\n",
      "Epoch 6/20\n",
      "120/120 [==============================] - 176s 1s/step - loss: 0.0246 - accuracy: 0.9906 - val_loss: 0.0020 - val_accuracy: 1.0000\n",
      "Epoch 7/20\n",
      "120/120 [==============================] - 179s 1s/step - loss: 0.0342 - accuracy: 0.9901 - val_loss: 0.0433 - val_accuracy: 0.9854\n",
      "Epoch 8/20\n",
      "120/120 [==============================] - 165s 1s/step - loss: 0.0177 - accuracy: 0.9942 - val_loss: 0.0043 - val_accuracy: 0.9993\n",
      "Epoch 9/20\n",
      "120/120 [==============================] - 169s 1s/step - loss: 0.0697 - accuracy: 0.9832 - val_loss: 0.0314 - val_accuracy: 0.9881\n",
      "Epoch 10/20\n",
      "120/120 [==============================] - 167s 1s/step - loss: 0.0102 - accuracy: 0.9971 - val_loss: 0.0020 - val_accuracy: 0.9993\n",
      "Epoch 11/20\n",
      "120/120 [==============================] - 166s 1s/step - loss: 0.0291 - accuracy: 0.9903 - val_loss: 0.2209 - val_accuracy: 0.9285\n"
     ]
    }
   ],
   "source": [
    "callbacks = [\n",
    "    EarlyStopping(patience=5, restore_best_weights=True),\n",
    "    ModelCheckpoint(\"../outputs/mildew_model_softmax.h5\", save_best_only=True)\n",
    "]\n",
    "\n",
    "history = model.fit(\n",
    "    train_data,\n",
    "    epochs=20,\n",
    "    validation_data=val_data,\n",
    "    callbacks=callbacks\n",
    ")"
   ]
  },
  {
   "cell_type": "markdown",
   "id": "7250bd29-53ad-4bd2-b30f-9d8949fd5ca4",
   "metadata": {},
   "source": [
    "### Save Model and History\n",
    "We save the trained model to outputs/mildew_model.h5 and store the training history in:\n",
    " - training_history.pkl (binary format)\n",
    " - history.json (readable format)\n",
    "\n",
    "This allows us to later visualize training progress without re-training the model."
   ]
  },
  {
   "cell_type": "code",
   "execution_count": 9,
   "id": "1bb07f04-d1a5-4734-8d8a-2737cbd78b7a",
   "metadata": {},
   "outputs": [],
   "source": [
    "# Save training history\n",
    "import json, pickle\n",
    "\n",
    "# with open(\"../outputs/training_history.pkl\", \"wb\") as f:\n",
    "with open(\"../outputs/training_history_softmax.pkl\", \"wb\") as f:\n",
    "    pickle.dump(history.history, f)\n",
    "\n",
    "# with open(\"../outputs/history.json\", \"w\") as f:\n",
    "with open(\"../outputs/history_softmax.json\", \"w\") as f:\n",
    "    json.dump(history.history, f)\n"
   ]
  },
  {
   "cell_type": "markdown",
   "id": "fb1f8d8e-341c-4a32-ac22-a03f1efec71b",
   "metadata": {},
   "source": [
    "#### To avoid retraining every time, comment out model.fit(...) and just use this:"
   ]
  },
  {
   "cell_type": "code",
   "execution_count": 10,
   "id": "cfcf1d0b-bea0-412c-b6ea-3888cec7e259",
   "metadata": {},
   "outputs": [],
   "source": [
    "# with open(\"../outputs/training_history.pkl\", \"rb\") as f:\n",
    "#    history_data = pickle.load(f)"
   ]
  }
 ],
 "metadata": {
  "kernelspec": {
   "display_name": "My Project",
   "language": "python",
   "name": "myproject"
  },
  "language_info": {
   "codemirror_mode": {
    "name": "ipython",
    "version": 3
   },
   "file_extension": ".py",
   "mimetype": "text/x-python",
   "name": "python",
   "nbconvert_exporter": "python",
   "pygments_lexer": "ipython3",
   "version": "3.10.12"
  }
 },
 "nbformat": 4,
 "nbformat_minor": 5
}
