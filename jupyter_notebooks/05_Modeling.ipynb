{
 "cells": [
  {
   "cell_type": "markdown",
   "id": "266ab555-7c9d-408e-b117-4b4a7561ae67",
   "metadata": {},
   "source": [
    "## 05_Modeling.ipynb\n",
    "###  **🎯 Objective:**\n",
    "\n",
    "The objective of this notebook is to define, compile, and train a Convolutional Neural Network (CNN) model to detect powdery mildew in cherry leaf images. This phase follows the preprocessing stage and forms the core of the modeling step in the CRISP-DM methodology.\n",
    "\n"
   ]
  },
  {
   "cell_type": "markdown",
   "id": "b0d0b47b-c83c-45ea-a0f4-878ae0c366c1",
   "metadata": {},
   "source": [
    "## Model Architecture\n",
    "We define a deep learning model using TensorFlow Keras. The model consists of:\n",
    " - Convolutional layers for feature extraction\n",
    " - MaxPooling layers to reduce spatial dimensions\n",
    " - GlobalAveragePooling to reduce the feature map\n",
    " - Dense layers for decision making\n",
    " - Dropout layer for regularization\n",
    " - Sigmoid activation for binary classification"
   ]
  },
  {
   "cell_type": "code",
   "execution_count": null,
   "id": "a4719ab9-29ac-4168-908a-f257ce99e186",
   "metadata": {},
   "outputs": [],
   "source": [
    "from tensorflow.keras.models import Sequential\n",
    "from tensorflow.keras.layers import Conv2D, MaxPooling2D, Dense, Dropout, GlobalAveragePooling2D\n",
    "from tensorflow.keras.callbacks import EarlyStopping, ModelCheckpoint\n",
    "\n",
    "# Define model\n",
    "model = Sequential([\n",
    "    Conv2D(32, (3,3), activation='relu', input_shape=(256, 256, 3)),\n",
    "    MaxPooling2D(2, 2),\n",
    "    Conv2D(64, (3,3), activation='relu'),\n",
    "    MaxPooling2D(2, 2),\n",
    "    Conv2D(128, (3,3), activation='relu'),\n",
    "    MaxPooling2D(2, 2),\n",
    "    GlobalAveragePooling2D(),\n",
    "    Dense(128, activation='relu'),\n",
    "    Dropout(0.5),\n",
    "    Dense(1, activation='sigmoid')\n",
    "])"
   ]
  },
  {
   "cell_type": "markdown",
   "id": "8fea4daa-b423-4b94-b4e3-1a35ba2222d9",
   "metadata": {},
   "source": [
    "### Compile the Model\n",
    "We compile the model using:\n",
    " - Loss function: binary_crossentropy (for binary classification)\n",
    " - Optimizer: adam\n",
    " - Evaluation metric: accuracy"
   ]
  },
  {
   "cell_type": "code",
   "execution_count": null,
   "id": "9f3d3de5-3aa7-442e-9b1a-5b7a87960451",
   "metadata": {},
   "outputs": [],
   "source": [
    "model.compile(optimizer='adam', loss='binary_crossentropy', metrics=['accuracy'])\n",
    "model.summary()"
   ]
  },
  {
   "cell_type": "markdown",
   "id": "0e00fe2f-7083-4b4d-9f5d-e16cfbeb4c15",
   "metadata": {},
   "source": [
    " ### Load Train and Validation Data"
   ]
  },
  {
   "cell_type": "markdown",
   "id": "21ab69ba-8f51-44d9-aca8-ac4490f1f7a4",
   "metadata": {},
   "source": [
    "### Load Preprocessed Data\n",
    "Using ImageDataGenerator, we load:\n",
    " - Augmented training images\n",
    " - Rescaled validation images\n",
    "\n",
    "This step prepares the model to be trained on realistic and varied data, improving generalization."
   ]
  },
  {
   "cell_type": "code",
   "execution_count": null,
   "id": "bd747e02-eb19-4308-8da6-e4a61661022e",
   "metadata": {},
   "outputs": [],
   "source": [
    "from tensorflow.keras.preprocessing.image import ImageDataGenerator\n",
    "\n",
    "img_shape = (256, 256)\n",
    "batch_size = 32\n",
    "\n",
    "train_aug = ImageDataGenerator(\n",
    "    rotation_range=20,\n",
    "    width_shift_range=0.10,\n",
    "    height_shift_range=0.10,\n",
    "    shear_range=0.1,\n",
    "    zoom_range=0.1,\n",
    "    horizontal_flip=True,\n",
    "    vertical_flip=True,\n",
    "    fill_mode='nearest',\n",
    "    rescale=1./255\n",
    ")\n",
    "\n",
    "test_aug = ImageDataGenerator(rescale=1./255)\n",
    "\n",
    "train_data = train_aug.flow_from_directory(\n",
    "    \"../inputs/split-leaves/train\",\n",
    "    target_size=img_shape,\n",
    "    batch_size=batch_size,\n",
    "    class_mode='binary'\n",
    ")\n",
    "\n",
    "val_data = test_aug.flow_from_directory(\n",
    "    \"../inputs/split-leaves/validation\",\n",
    "    target_size=img_shape,\n",
    "    batch_size=batch_size,\n",
    "    class_mode='binary',\n",
    "    shuffle=False\n",
    ")\n"
   ]
  },
  {
   "cell_type": "markdown",
   "id": "e1fbba9e-0c40-46a0-84a2-e4382988a6a3",
   "metadata": {},
   "source": [
    "### Train the Model and Save Artifacts"
   ]
  },
  {
   "cell_type": "markdown",
   "id": "73571e64-84f4-46fe-941c-0ec022af2900",
   "metadata": {},
   "source": [
    "### Training the Model\n",
    "We train the model using model.fit(...) with:\n",
    " - EarlyStopping to prevent overfitting\n",
    " - ModelCheckpoint to save the best-performing model based on validation loss\n",
    " - We run the model for up to 20 epochs, monitoring both training and validation accuracy/loss."
   ]
  },
  {
   "cell_type": "code",
   "execution_count": null,
   "id": "8a9190d3-d1a9-4649-afdf-f1e7c1d02768",
   "metadata": {},
   "outputs": [],
   "source": [
    "callbacks = [\n",
    "    EarlyStopping(patience=5, restore_best_weights=True),\n",
    "    ModelCheckpoint(\"../outputs/mildew_model.h5\", save_best_only=True)\n",
    "]\n",
    "\n",
    "history = model.fit(\n",
    "    train_data,\n",
    "    epochs=20,\n",
    "    validation_data=val_data,\n",
    "    callbacks=callbacks\n",
    ")"
   ]
  },
  {
   "cell_type": "markdown",
   "id": "7250bd29-53ad-4bd2-b30f-9d8949fd5ca4",
   "metadata": {},
   "source": [
    "### Save Model and History\n",
    "We save the trained model to outputs/mildew_model.h5 and store the training history in:\n",
    " - training_history.pkl (binary format)\n",
    " - history.json (readable format)\n",
    "\n",
    "This allows us to later visualize training progress without re-training the model."
   ]
  },
  {
   "cell_type": "code",
   "execution_count": null,
   "id": "1bb07f04-d1a5-4734-8d8a-2737cbd78b7a",
   "metadata": {},
   "outputs": [],
   "source": [
    "# Save training history\n",
    "import json, pickle\n",
    "\n",
    "with open(\"../outputs/training_history.pkl\", \"wb\") as f:\n",
    "    pickle.dump(history.history, f)\n",
    "\n",
    "with open(\"../outputs/history.json\", \"w\") as f:\n",
    "    json.dump(history.history, f)\n"
   ]
  },
  {
   "cell_type": "markdown",
   "id": "fb1f8d8e-341c-4a32-ac22-a03f1efec71b",
   "metadata": {},
   "source": [
    "#### To avoid retraining every time, comment out model.fit(...) and just use this:"
   ]
  },
  {
   "cell_type": "code",
   "execution_count": null,
   "id": "cfcf1d0b-bea0-412c-b6ea-3888cec7e259",
   "metadata": {},
   "outputs": [],
   "source": [
    "# with open(\"../outputs/training_history.pkl\", \"rb\") as f:\n",
    "#    history_data = pickle.load(f)"
   ]
  }
 ],
 "metadata": {
  "kernelspec": {
   "display_name": "Python 3 (ipykernel)",
   "language": "python",
   "name": "python3"
  },
  "language_info": {
   "codemirror_mode": {
    "name": "ipython",
    "version": 3
   },
   "file_extension": ".py",
   "mimetype": "text/x-python",
   "name": "python",
   "nbconvert_exporter": "python",
   "pygments_lexer": "ipython3",
   "version": "3.12.5"
  }
 },
 "nbformat": 4,
 "nbformat_minor": 5
}
