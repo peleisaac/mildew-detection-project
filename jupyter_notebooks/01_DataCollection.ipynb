{
 "cells": [
  {
   "cell_type": "markdown",
   "id": "cd1c2b35-8615-4370-a30a-f6b3f89c14b9",
   "metadata": {},
   "source": [
    "## 📥 Data Collection\n",
    "\n",
    "This notebook handles the collection of the raw dataset used in this project.\n",
    "\n",
    "- The dataset is hosted on Kaggle and requires authentication via the Kaggle API.\n",
    "- We configure Kaggle credentials securely and download the dataset programmatically.\n",
    "- Once downloaded, the dataset is extracted from its zip archive and made ready for further analysis.\n",
    "\n",
    "This phase does **not** involve any modification or transformation of the data. The goal is to retrieve the dataset in its original form for inspection and preprocessing.\n",
    "\n",
    "### Objective\n",
    "Fetch data from the kaggle url and prepare it for further processes\n",
    "\n",
    "### Inputs\n",
    "Kaggle JSON file - the authentication token.\n",
    "\n",
    "### Outputs\n",
    "Generate Dataset: inputs/datasets/cherry_leaves"
   ]
  },
  {
   "cell_type": "markdown",
   "id": "18327354-bf11-4c08-a5fa-037fcd096173",
   "metadata": {},
   "source": [
    "### Import Dataset"
   ]
  },
  {
   "cell_type": "code",
   "execution_count": null,
   "id": "6598c5ec-25db-40fc-bf09-72b51cf9c398",
   "metadata": {},
   "outputs": [],
   "source": [
    "import os"
   ]
  },
  {
   "cell_type": "code",
   "execution_count": 3,
   "id": "3cce74fb-9d2b-4d09-bf4f-bd2ecbf99d6b",
   "metadata": {},
   "outputs": [],
   "source": [
    "# Dynamically find the kaggle.json path\n",
    "config_path = os.path.join(os.getcwd(), \"jupyter_notebooks\", \"kaggle.json\")\n",
    "\n",
    "# Set Kaggle config env var\n",
    "os.environ['KAGGLE_CONFIG_DIR'] = os.path.dirname(config_path)\n",
    "\n",
    "# Apply permissions\n",
    "!chmod 600 jupyter_notebooks/kaggle.json"
   ]
  },
  {
   "cell_type": "markdown",
   "id": "0c6e459d-2d5d-4d68-ae86-287a41bd40a4",
   "metadata": {},
   "source": [
    "#### ℹ️ Note:\n",
    "Downloading the dataset from kaggle website to our defined destination folder."
   ]
  },
  {
   "cell_type": "code",
   "execution_count": 4,
   "id": "93852063-ca31-4c11-9825-66e7d676fea6",
   "metadata": {},
   "outputs": [
    {
     "name": "stdout",
     "output_type": "stream",
     "text": [
      "Dataset URL: https://www.kaggle.com/datasets/...\n",
      "License(s): unknown\n",
      "Downloading cherry-leaves.zip to inputs/cherry_leaves\n",
      "  0%|                                               | 0.00/55.0M [00:00<?, ?B/s]\n",
      "100%|██████████████████████████████████████| 55.0M/55.0M [00:00<00:00, 1.95GB/s]\n"
     ]
    }
   ],
   "source": [
    "! kaggle datasets download -d \"codeinstitute/cherry-leaves\" -p \"inputs/cherry_leaves\""
   ]
  },
  {
   "cell_type": "markdown",
   "id": "7c3b338d-7851-43ca-a391-c6d693f89ca6",
   "metadata": {},
   "source": [
    "Unzip the downloaded file"
   ]
  },
  {
   "cell_type": "markdown",
   "id": "c4833cae-b248-4ef8-9f11-54ea2ed8c76a",
   "metadata": {},
   "source": [
    "**Unzip the downloaded files using the zipfile.**"
   ]
  },
  {
   "cell_type": "code",
   "execution_count": 5,
   "id": "6fdc4a82-ea41-4366-9883-d5a99d885959",
   "metadata": {},
   "outputs": [],
   "source": [
    "import zipfile\n",
    "with zipfile.ZipFile(\"../inputs/cherry_leaves/cherry-leaves.zip\", 'r') as zip_ref:\n",
    "    zip_ref.extractall(\"inputs/cherry_leaves/\")"
   ]
  },
  {
   "cell_type": "markdown",
   "id": "61c113b6-3e85-4a71-8499-fd79fac5350a",
   "metadata": {},
   "source": [
    "### Dataset Statistics Collection\n",
    "We count the total number of images in each class (healthy vs infected cherry leaves) and save the statistics for use in the Streamlit dashboard metrics.\n",
    "- 📌 **Insight:** This provides essential dataset overview information including total size and class distribution balance for model development planning."
   ]
  },
  {
   "cell_type": "code",
   "execution_count": 5,
   "id": "afb062de-3af8-41ca-9687-e859ea8973ac",
   "metadata": {},
   "outputs": [
    {
     "name": "stdout",
     "output_type": "stream",
     "text": [
      "Dataset stats saved to outputs/dataset_stats.json\n",
      "Total Images: 4208\n",
      "Healthy Leaves: 2104\n",
      "Infected Leaves: 2104\n"
     ]
    }
   ],
   "source": [
    "import os\n",
    "import json\n",
    "\n",
    "# Count images in each folder\n",
    "healthy_path = \"../inputs/cherry_leaves/cherry-leaves/healthy\"\n",
    "infected_path = \"../inputs/cherry_leaves/cherry-leaves/powdery_mildew\"\n",
    "\n",
    "healthy_count = len(os.listdir(healthy_path))\n",
    "infected_count = len(os.listdir(infected_path))\n",
    "total_count = healthy_count + infected_count\n",
    "\n",
    "# Create results dictionary\n",
    "dataset_stats = {\n",
    "    \"total_images\": total_count,\n",
    "    \"healthy_leaves\": healthy_count,\n",
    "    \"powdery_mildew_leaves\": infected_count\n",
    "}\n",
    "\n",
    "# Save to JSON file\n",
    "with open(\"../outputs/dataset_stats.json\", \"w\") as f:\n",
    "    json.dump(dataset_stats, f, indent=2)\n",
    "\n",
    "print(f\"Dataset stats saved to outputs/dataset_stats.json\")\n",
    "print(f\"Total Images: {total_count}\")\n",
    "print(f\"Healthy Leaves: {healthy_count}\")\n",
    "print(f\"Infected Leaves: {infected_count}\")"
   ]
  },
  {
   "cell_type": "code",
   "execution_count": null,
   "id": "4004124d-57e1-4537-9441-4a6e0dc581b8",
   "metadata": {},
   "outputs": [],
   "source": []
  }
 ],
 "metadata": {
  "kernelspec": {
   "display_name": "Python 3 (ipykernel)",
   "language": "python",
   "name": "python3"
  },
  "language_info": {
   "codemirror_mode": {
    "name": "ipython",
    "version": 3
   },
   "file_extension": ".py",
   "mimetype": "text/x-python",
   "name": "python",
   "nbconvert_exporter": "python",
   "pygments_lexer": "ipython3",
   "version": "3.12.5"
  }
 },
 "nbformat": 4,
 "nbformat_minor": 5
}
