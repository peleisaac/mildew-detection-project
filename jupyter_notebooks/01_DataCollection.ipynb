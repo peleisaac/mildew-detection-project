{
 "cells": [
  {
   "cell_type": "markdown",
   "id": "a652b052-f932-40a8-bcef-b27be56e911a",
   "metadata": {},
   "source": [
    "## Data Collection"
   ]
  },
  {
   "cell_type": "markdown",
   "id": "b7facfee-ba6a-4871-8a2c-a32093528ee1",
   "metadata": {},
   "source": [
    "### Objective"
   ]
  },
  {
   "cell_type": "markdown",
   "id": "d3237f91-be9c-43f3-926c-fbf21f72592d",
   "metadata": {},
   "source": [
    "Fetch data from the kaggle url and prepare it for further processes"
   ]
  },
  {
   "cell_type": "markdown",
   "id": "50a2b720-45ce-44a5-961d-69f01f11972e",
   "metadata": {},
   "source": [
    "### Inputs"
   ]
  },
  {
   "cell_type": "markdown",
   "id": "b7b6ed1f-9185-4db2-b858-4234c4573eeb",
   "metadata": {},
   "source": [
    "Kaggle JSON file - the authentication token."
   ]
  },
  {
   "cell_type": "markdown",
   "id": "e1302032-9917-48a3-a1ae-999b9eaa7033",
   "metadata": {},
   "source": [
    "### Outputs"
   ]
  },
  {
   "cell_type": "markdown",
   "id": "c260f992-bc73-42f1-b850-6816842356b4",
   "metadata": {},
   "source": [
    "Generate Dataset: inputs/datasets/cherry_leaves"
   ]
  },
  {
   "cell_type": "markdown",
   "id": "8002fc6b-e323-4d46-b115-bda23b584d5f",
   "metadata": {},
   "source": [
    "### Import Packages"
   ]
  },
  {
   "cell_type": "code",
   "execution_count": 1,
   "id": "41ec502f-62f9-45a7-9cd6-bfa484e2269b",
   "metadata": {},
   "outputs": [
    {
     "name": "stdout",
     "output_type": "stream",
     "text": [
      "Requirement already satisfied: pandas in /Users/dappiah/Library/jupyterlab-desktop/jlab_server/lib/python3.12/site-packages (2.2.2)\n",
      "Requirement already satisfied: numpy in /Users/dappiah/Library/jupyterlab-desktop/jlab_server/lib/python3.12/site-packages (1.26.4)\n",
      "Requirement already satisfied: matplotlib in /Users/dappiah/Library/jupyterlab-desktop/jlab_server/lib/python3.12/site-packages (3.9.2)\n",
      "Requirement already satisfied: seaborn in /Users/dappiah/Library/jupyterlab-desktop/jlab_server/lib/python3.12/site-packages (0.13.2)\n",
      "Requirement already satisfied: plotly in /Users/dappiah/Library/jupyterlab-desktop/jlab_server/lib/python3.12/site-packages (6.1.1)\n",
      "Requirement already satisfied: streamlit in /Users/dappiah/Library/jupyterlab-desktop/jlab_server/lib/python3.12/site-packages (1.45.1)\n",
      "Requirement already satisfied: pillow in /Users/dappiah/Library/jupyterlab-desktop/jlab_server/lib/python3.12/site-packages (10.4.0)\n",
      "Requirement already satisfied: joblib in /Users/dappiah/Library/jupyterlab-desktop/jlab_server/lib/python3.12/site-packages (1.5.1)\n",
      "Requirement already satisfied: scikit-learn in /Users/dappiah/Library/jupyterlab-desktop/jlab_server/lib/python3.12/site-packages (1.6.1)\n",
      "Requirement already satisfied: tensorflow-cpu in /Users/dappiah/Library/jupyterlab-desktop/jlab_server/lib/python3.12/site-packages (2.16.2)\n",
      "Requirement already satisfied: keras in /Users/dappiah/Library/jupyterlab-desktop/jlab_server/lib/python3.12/site-packages (3.10.0)\n",
      "Requirement already satisfied: kaggle in /Users/dappiah/Library/jupyterlab-desktop/jlab_server/lib/python3.12/site-packages (1.7.4.5)\n",
      "Requirement already satisfied: python-dateutil>=2.8.2 in /Users/dappiah/Library/jupyterlab-desktop/jlab_server/lib/python3.12/site-packages (from pandas) (2.9.0)\n",
      "Requirement already satisfied: pytz>=2020.1 in /Users/dappiah/Library/jupyterlab-desktop/jlab_server/lib/python3.12/site-packages (from pandas) (2024.1)\n",
      "Requirement already satisfied: tzdata>=2022.7 in /Users/dappiah/Library/jupyterlab-desktop/jlab_server/lib/python3.12/site-packages (from pandas) (2024.1)\n",
      "Requirement already satisfied: contourpy>=1.0.1 in /Users/dappiah/Library/jupyterlab-desktop/jlab_server/lib/python3.12/site-packages (from matplotlib) (1.2.1)\n",
      "Requirement already satisfied: cycler>=0.10 in /Users/dappiah/Library/jupyterlab-desktop/jlab_server/lib/python3.12/site-packages (from matplotlib) (0.12.1)\n",
      "Requirement already satisfied: fonttools>=4.22.0 in /Users/dappiah/Library/jupyterlab-desktop/jlab_server/lib/python3.12/site-packages (from matplotlib) (4.53.1)\n",
      "Requirement already satisfied: kiwisolver>=1.3.1 in /Users/dappiah/Library/jupyterlab-desktop/jlab_server/lib/python3.12/site-packages (from matplotlib) (1.4.5)\n",
      "Requirement already satisfied: packaging>=20.0 in /Users/dappiah/Library/jupyterlab-desktop/jlab_server/lib/python3.12/site-packages (from matplotlib) (24.1)\n",
      "Requirement already satisfied: pyparsing>=2.3.1 in /Users/dappiah/Library/jupyterlab-desktop/jlab_server/lib/python3.12/site-packages (from matplotlib) (3.1.4)\n",
      "Requirement already satisfied: narwhals>=1.15.1 in /Users/dappiah/Library/jupyterlab-desktop/jlab_server/lib/python3.12/site-packages (from plotly) (1.41.0)\n",
      "Requirement already satisfied: altair<6,>=4.0 in /Users/dappiah/Library/jupyterlab-desktop/jlab_server/lib/python3.12/site-packages (from streamlit) (5.5.0)\n",
      "Requirement already satisfied: blinker<2,>=1.5.0 in /Users/dappiah/Library/jupyterlab-desktop/jlab_server/lib/python3.12/site-packages (from streamlit) (1.9.0)\n",
      "Requirement already satisfied: cachetools<6,>=4.0 in /Users/dappiah/Library/jupyterlab-desktop/jlab_server/lib/python3.12/site-packages (from streamlit) (5.5.2)\n",
      "Requirement already satisfied: click<9,>=7.0 in /Users/dappiah/Library/jupyterlab-desktop/jlab_server/lib/python3.12/site-packages (from streamlit) (8.2.1)\n",
      "Requirement already satisfied: protobuf<7,>=3.20 in /Users/dappiah/Library/jupyterlab-desktop/jlab_server/lib/python3.12/site-packages (from streamlit) (4.25.7)\n",
      "Requirement already satisfied: pyarrow>=7.0 in /Users/dappiah/Library/jupyterlab-desktop/jlab_server/lib/python3.12/site-packages (from streamlit) (20.0.0)\n",
      "Requirement already satisfied: requests<3,>=2.27 in /Users/dappiah/Library/jupyterlab-desktop/jlab_server/lib/python3.12/site-packages (from streamlit) (2.32.3)\n",
      "Requirement already satisfied: tenacity<10,>=8.1.0 in /Users/dappiah/Library/jupyterlab-desktop/jlab_server/lib/python3.12/site-packages (from streamlit) (9.1.2)\n",
      "Requirement already satisfied: toml<2,>=0.10.1 in /Users/dappiah/Library/jupyterlab-desktop/jlab_server/lib/python3.12/site-packages (from streamlit) (0.10.2)\n",
      "Requirement already satisfied: typing-extensions<5,>=4.4.0 in /Users/dappiah/Library/jupyterlab-desktop/jlab_server/lib/python3.12/site-packages (from streamlit) (4.12.2)\n",
      "Requirement already satisfied: gitpython!=3.1.19,<4,>=3.0.7 in /Users/dappiah/Library/jupyterlab-desktop/jlab_server/lib/python3.12/site-packages (from streamlit) (3.1.44)\n",
      "Requirement already satisfied: pydeck<1,>=0.8.0b4 in /Users/dappiah/Library/jupyterlab-desktop/jlab_server/lib/python3.12/site-packages (from streamlit) (0.9.1)\n",
      "Requirement already satisfied: tornado<7,>=6.0.3 in /Users/dappiah/Library/jupyterlab-desktop/jlab_server/lib/python3.12/site-packages (from streamlit) (6.4.1)\n",
      "Requirement already satisfied: scipy>=1.6.0 in /Users/dappiah/Library/jupyterlab-desktop/jlab_server/lib/python3.12/site-packages (from scikit-learn) (1.14.1)\n",
      "Requirement already satisfied: threadpoolctl>=3.1.0 in /Users/dappiah/Library/jupyterlab-desktop/jlab_server/lib/python3.12/site-packages (from scikit-learn) (3.6.0)\n",
      "Requirement already satisfied: absl-py>=1.0.0 in /Users/dappiah/Library/jupyterlab-desktop/jlab_server/lib/python3.12/site-packages (from tensorflow-cpu) (2.3.0)\n",
      "Requirement already satisfied: astunparse>=1.6.0 in /Users/dappiah/Library/jupyterlab-desktop/jlab_server/lib/python3.12/site-packages (from tensorflow-cpu) (1.6.3)\n",
      "Requirement already satisfied: flatbuffers>=23.5.26 in /Users/dappiah/Library/jupyterlab-desktop/jlab_server/lib/python3.12/site-packages (from tensorflow-cpu) (25.2.10)\n",
      "Requirement already satisfied: gast!=0.5.0,!=0.5.1,!=0.5.2,>=0.2.1 in /Users/dappiah/Library/jupyterlab-desktop/jlab_server/lib/python3.12/site-packages (from tensorflow-cpu) (0.6.0)\n",
      "Requirement already satisfied: google-pasta>=0.1.1 in /Users/dappiah/Library/jupyterlab-desktop/jlab_server/lib/python3.12/site-packages (from tensorflow-cpu) (0.2.0)\n",
      "Requirement already satisfied: h5py>=3.10.0 in /Users/dappiah/Library/jupyterlab-desktop/jlab_server/lib/python3.12/site-packages (from tensorflow-cpu) (3.13.0)\n",
      "Requirement already satisfied: libclang>=13.0.0 in /Users/dappiah/Library/jupyterlab-desktop/jlab_server/lib/python3.12/site-packages (from tensorflow-cpu) (18.1.1)\n",
      "Requirement already satisfied: ml-dtypes~=0.3.1 in /Users/dappiah/Library/jupyterlab-desktop/jlab_server/lib/python3.12/site-packages (from tensorflow-cpu) (0.3.2)\n",
      "Requirement already satisfied: opt-einsum>=2.3.2 in /Users/dappiah/Library/jupyterlab-desktop/jlab_server/lib/python3.12/site-packages (from tensorflow-cpu) (3.4.0)\n",
      "Requirement already satisfied: setuptools in /Users/dappiah/Library/jupyterlab-desktop/jlab_server/lib/python3.12/site-packages (from tensorflow-cpu) (72.2.0)\n",
      "Requirement already satisfied: six>=1.12.0 in /Users/dappiah/Library/jupyterlab-desktop/jlab_server/lib/python3.12/site-packages (from tensorflow-cpu) (1.16.0)\n",
      "Requirement already satisfied: termcolor>=1.1.0 in /Users/dappiah/Library/jupyterlab-desktop/jlab_server/lib/python3.12/site-packages (from tensorflow-cpu) (3.1.0)\n",
      "Requirement already satisfied: wrapt>=1.11.0 in /Users/dappiah/Library/jupyterlab-desktop/jlab_server/lib/python3.12/site-packages (from tensorflow-cpu) (1.17.2)\n",
      "Requirement already satisfied: grpcio<2.0,>=1.24.3 in /Users/dappiah/Library/jupyterlab-desktop/jlab_server/lib/python3.12/site-packages (from tensorflow-cpu) (1.71.0)\n",
      "Requirement already satisfied: tensorboard<2.17,>=2.16 in /Users/dappiah/Library/jupyterlab-desktop/jlab_server/lib/python3.12/site-packages (from tensorflow-cpu) (2.16.2)\n",
      "Requirement already satisfied: rich in /Users/dappiah/Library/jupyterlab-desktop/jlab_server/lib/python3.12/site-packages (from keras) (14.0.0)\n",
      "Requirement already satisfied: namex in /Users/dappiah/Library/jupyterlab-desktop/jlab_server/lib/python3.12/site-packages (from keras) (0.1.0)\n",
      "Requirement already satisfied: optree in /Users/dappiah/Library/jupyterlab-desktop/jlab_server/lib/python3.12/site-packages (from keras) (0.15.0)\n",
      "Requirement already satisfied: bleach in /Users/dappiah/Library/jupyterlab-desktop/jlab_server/lib/python3.12/site-packages (from kaggle) (6.1.0)\n",
      "Requirement already satisfied: certifi>=14.05.14 in /Users/dappiah/Library/jupyterlab-desktop/jlab_server/lib/python3.12/site-packages (from kaggle) (2024.7.4)\n",
      "Requirement already satisfied: charset-normalizer in /Users/dappiah/Library/jupyterlab-desktop/jlab_server/lib/python3.12/site-packages (from kaggle) (3.3.2)\n",
      "Requirement already satisfied: idna in /Users/dappiah/Library/jupyterlab-desktop/jlab_server/lib/python3.12/site-packages (from kaggle) (3.8)\n",
      "Requirement already satisfied: python-slugify in /Users/dappiah/Library/jupyterlab-desktop/jlab_server/lib/python3.12/site-packages (from kaggle) (8.0.4)\n",
      "Requirement already satisfied: text-unidecode in /Users/dappiah/Library/jupyterlab-desktop/jlab_server/lib/python3.12/site-packages (from kaggle) (1.3)\n",
      "Requirement already satisfied: tqdm in /Users/dappiah/Library/jupyterlab-desktop/jlab_server/lib/python3.12/site-packages (from kaggle) (4.66.5)\n",
      "Requirement already satisfied: urllib3>=1.15.1 in /Users/dappiah/Library/jupyterlab-desktop/jlab_server/lib/python3.12/site-packages (from kaggle) (2.2.2)\n",
      "Requirement already satisfied: webencodings in /Users/dappiah/Library/jupyterlab-desktop/jlab_server/lib/python3.12/site-packages (from kaggle) (0.5.1)\n",
      "Requirement already satisfied: jinja2 in /Users/dappiah/Library/jupyterlab-desktop/jlab_server/lib/python3.12/site-packages (from altair<6,>=4.0->streamlit) (3.1.4)\n",
      "Requirement already satisfied: jsonschema>=3.0 in /Users/dappiah/Library/jupyterlab-desktop/jlab_server/lib/python3.12/site-packages (from altair<6,>=4.0->streamlit) (4.23.0)\n",
      "Requirement already satisfied: wheel<1.0,>=0.23.0 in /Users/dappiah/Library/jupyterlab-desktop/jlab_server/lib/python3.12/site-packages (from astunparse>=1.6.0->tensorflow-cpu) (0.44.0)\n",
      "Requirement already satisfied: gitdb<5,>=4.0.1 in /Users/dappiah/Library/jupyterlab-desktop/jlab_server/lib/python3.12/site-packages (from gitpython!=3.1.19,<4,>=3.0.7->streamlit) (4.0.12)\n",
      "Requirement already satisfied: markdown>=2.6.8 in /Users/dappiah/Library/jupyterlab-desktop/jlab_server/lib/python3.12/site-packages (from tensorboard<2.17,>=2.16->tensorflow-cpu) (3.8)\n",
      "Requirement already satisfied: tensorboard-data-server<0.8.0,>=0.7.0 in /Users/dappiah/Library/jupyterlab-desktop/jlab_server/lib/python3.12/site-packages (from tensorboard<2.17,>=2.16->tensorflow-cpu) (0.7.2)\n",
      "Requirement already satisfied: werkzeug>=1.0.1 in /Users/dappiah/Library/jupyterlab-desktop/jlab_server/lib/python3.12/site-packages (from tensorboard<2.17,>=2.16->tensorflow-cpu) (3.1.3)\n",
      "Requirement already satisfied: markdown-it-py>=2.2.0 in /Users/dappiah/Library/jupyterlab-desktop/jlab_server/lib/python3.12/site-packages (from rich->keras) (3.0.0)\n",
      "Requirement already satisfied: pygments<3.0.0,>=2.13.0 in /Users/dappiah/Library/jupyterlab-desktop/jlab_server/lib/python3.12/site-packages (from rich->keras) (2.18.0)\n",
      "Requirement already satisfied: smmap<6,>=3.0.1 in /Users/dappiah/Library/jupyterlab-desktop/jlab_server/lib/python3.12/site-packages (from gitdb<5,>=4.0.1->gitpython!=3.1.19,<4,>=3.0.7->streamlit) (5.0.2)\n",
      "Requirement already satisfied: MarkupSafe>=2.0 in /Users/dappiah/Library/jupyterlab-desktop/jlab_server/lib/python3.12/site-packages (from jinja2->altair<6,>=4.0->streamlit) (2.1.5)\n",
      "Requirement already satisfied: attrs>=22.2.0 in /Users/dappiah/Library/jupyterlab-desktop/jlab_server/lib/python3.12/site-packages (from jsonschema>=3.0->altair<6,>=4.0->streamlit) (24.2.0)\n",
      "Requirement already satisfied: jsonschema-specifications>=2023.03.6 in /Users/dappiah/Library/jupyterlab-desktop/jlab_server/lib/python3.12/site-packages (from jsonschema>=3.0->altair<6,>=4.0->streamlit) (2023.12.1)\n",
      "Requirement already satisfied: referencing>=0.28.4 in /Users/dappiah/Library/jupyterlab-desktop/jlab_server/lib/python3.12/site-packages (from jsonschema>=3.0->altair<6,>=4.0->streamlit) (0.35.1)\n",
      "Requirement already satisfied: rpds-py>=0.7.1 in /Users/dappiah/Library/jupyterlab-desktop/jlab_server/lib/python3.12/site-packages (from jsonschema>=3.0->altair<6,>=4.0->streamlit) (0.20.0)\n",
      "Requirement already satisfied: mdurl~=0.1 in /Users/dappiah/Library/jupyterlab-desktop/jlab_server/lib/python3.12/site-packages (from markdown-it-py>=2.2.0->rich->keras) (0.1.2)\n"
     ]
    }
   ],
   "source": [
    "!pip3 install pandas numpy matplotlib seaborn plotly streamlit pillow joblib scikit-learn tensorflow-cpu keras kaggle"
   ]
  },
  {
   "cell_type": "markdown",
   "id": "18327354-bf11-4c08-a5fa-037fcd096173",
   "metadata": {},
   "source": [
    "### Import Dataset"
   ]
  },
  {
   "cell_type": "code",
   "execution_count": 2,
   "id": "6598c5ec-25db-40fc-bf09-72b51cf9c398",
   "metadata": {},
   "outputs": [],
   "source": [
    "import os"
   ]
  },
  {
   "cell_type": "code",
   "execution_count": 3,
   "id": "3cce74fb-9d2b-4d09-bf4f-bd2ecbf99d6b",
   "metadata": {},
   "outputs": [],
   "source": [
    "# Dynamically find the kaggle.json path\n",
    "config_path = os.path.join(os.getcwd(), \"jupyter_notebooks\", \"kaggle.json\")\n",
    "\n",
    "# Set Kaggle config env var\n",
    "os.environ['KAGGLE_CONFIG_DIR'] = os.path.dirname(config_path)\n",
    "\n",
    "# Apply permissions\n",
    "!chmod 600 jupyter_notebooks/kaggle.json"
   ]
  },
  {
   "cell_type": "markdown",
   "id": "0c6e459d-2d5d-4d68-ae86-287a41bd40a4",
   "metadata": {},
   "source": [
    "#### ℹ️ Note:\n",
    "Downloading the dataset from kaggle website to our defined destination folder."
   ]
  },
  {
   "cell_type": "code",
   "execution_count": 4,
   "id": "93852063-ca31-4c11-9825-66e7d676fea6",
   "metadata": {},
   "outputs": [
    {
     "name": "stdout",
     "output_type": "stream",
     "text": [
      "Dataset URL: https://www.kaggle.com/datasets/codeinstitute/cherry-leaves\n",
      "License(s): unknown\n",
      "Downloading cherry-leaves.zip to inputs/cherry_leaves\n",
      "  0%|                                               | 0.00/55.0M [00:00<?, ?B/s]\n",
      "100%|██████████████████████████████████████| 55.0M/55.0M [00:00<00:00, 1.95GB/s]\n"
     ]
    }
   ],
   "source": [
    "! kaggle datasets download -d \"codeinstitute/cherry-leaves\" -p \"inputs/cherry_leaves\""
   ]
  },
  {
   "cell_type": "markdown",
   "id": "7c3b338d-7851-43ca-a391-c6d693f89ca6",
   "metadata": {},
   "source": [
    "Unzip the downloaded file"
   ]
  },
  {
   "cell_type": "markdown",
   "id": "0de7a06d-a81a-4ff3-ba1d-fb70c7498bde",
   "metadata": {},
   "source": [
    "## Data Preparation"
   ]
  },
  {
   "cell_type": "markdown",
   "id": "c4833cae-b248-4ef8-9f11-54ea2ed8c76a",
   "metadata": {},
   "source": [
    "Unzip the downloaded files using the zipfile."
   ]
  },
  {
   "cell_type": "code",
   "execution_count": 5,
   "id": "6fdc4a82-ea41-4366-9883-d5a99d885959",
   "metadata": {},
   "outputs": [],
   "source": [
    "import zipfile\n",
    "with zipfile.ZipFile(\"inputs/cherry_leaves/cherry-leaves.zip\", 'r') as zip_ref:\n",
    "    zip_ref.extractall(\"inputs/cherry_leaves/\")"
   ]
  },
  {
   "cell_type": "markdown",
   "id": "4d614fe4-9538-4819-b9f2-dc3c91f5339f",
   "metadata": {},
   "source": [
    "#### ℹ️ Note:\n",
    "Use PIL for the cleaning/validation step.\n",
    "It’s more strict, which is better when you need to guarantee integrity of your dataset before training."
   ]
  },
  {
   "cell_type": "code",
   "execution_count": 8,
   "id": "0dc89b7b-17cf-4e61-9abe-e9a1635975d7",
   "metadata": {},
   "outputs": [],
   "source": [
    "from PIL import Image\n",
    "\n",
    "def find_invalid_images(folder_path):\n",
    "    corrupted_files = []\n",
    "\n",
    "    for label in os.listdir(folder_path):\n",
    "        label_path = os.path.join(folder_path, label)\n",
    "        if not os.path.isdir(label_path):\n",
    "            continue\n",
    "\n",
    "        for filename in os.listdir(label_path):\n",
    "            file_path = os.path.join(label_path, filename)\n",
    "            try:\n",
    "                with Image.open(file_path) as img:\n",
    "                    img.verify()  # Check if image can be opened\n",
    "            except Exception as e:\n",
    "                corrupted_files.append(file_path)\n",
    "\n",
    "    print(f\"Found {len(corrupted_files)} invalid image(s).\")\n",
    "    if corrupted_files:\n",
    "        print(\"Example invalid file(s):\")\n",
    "        print(\"\\n\".join(corrupted_files[:5]))\n",
    "    \n",
    "    return corrupted_files\n"
   ]
  },
  {
   "cell_type": "code",
   "execution_count": 9,
   "id": "1dbd37e8-7e11-4452-93f8-1f2048fc38e1",
   "metadata": {},
   "outputs": [
    {
     "name": "stdout",
     "output_type": "stream",
     "text": [
      "Found 0 invalid image(s).\n"
     ]
    }
   ],
   "source": [
    "corrupted_files = find_invalid_images(\"inputs/cherry_leaves/cherry-leaves\")"
   ]
  },
  {
   "cell_type": "markdown",
   "id": "bf1badda-02f3-4166-a9d8-d50a1fe653ac",
   "metadata": {},
   "source": [
    "#### ℹ️ Note:\n",
    "Since there were no invalid images found, there will be no need to implement a delete."
   ]
  },
  {
   "cell_type": "code",
   "execution_count": 12,
   "id": "5b9ec7b5-f632-473d-b8c4-870f2311ff32",
   "metadata": {},
   "outputs": [],
   "source": [
    "from pathlib import Path\n",
    "import shutil\n",
    "import random\n",
    "\n",
    "def organize_dataset_into_subsets(image_dir, output_dir, splits=(0.7, 0.2, 0.1)):\n",
    "    image_dir = Path(image_dir)\n",
    "    output_dir = Path(output_dir)\n",
    "    output_dir.mkdir(exist_ok=True)\n",
    "\n",
    "    labels = [d.name for d in image_dir.iterdir() if d.is_dir()]\n",
    "    print(f\"Found labels: {labels}\")\n",
    "\n",
    "    for label in labels:\n",
    "        files = [f for f in (image_dir / label).iterdir() if f.is_file()]\n",
    "        random.shuffle(files)\n",
    "\n",
    "        train_count = int(splits[0] * len(files))\n",
    "        val_count = int(splits[1] * len(files))\n",
    "\n",
    "        subsets = {\n",
    "            \"train\": files[:train_count],\n",
    "            \"validation\": files[train_count:train_count + val_count],\n",
    "            \"test\": files[train_count + val_count:]\n",
    "        }\n",
    "\n",
    "        for subset_name, subset_files in subsets.items():\n",
    "            subset_path = output_dir / subset_name / label\n",
    "            subset_path.mkdir(parents=True, exist_ok=True)\n",
    "\n",
    "            for file in subset_files:\n",
    "                shutil.copy(file, subset_path)\n",
    "\n",
    "    print(\"\\n✅ Dataset split complete.\")\n",
    "    for subset in [\"train\", \"validation\", \"test\"]:\n",
    "        total = sum(1 for _ in (output_dir / subset).rglob(\"*.*\"))\n",
    "        print(f\"{subset.capitalize()} set: {total} images\")"
   ]
  },
  {
   "cell_type": "markdown",
   "id": "5f4ab6b8-d319-474d-b882-09d87de177da",
   "metadata": {},
   "source": [
    "#### ℹ️ Note:\n",
    "A separate output directory is used to preserve the original dataset. This approach ensures data integrity, supports reproducibility, and allows for safe reprocessing or experimentation without altering the source files.\n"
   ]
  },
  {
   "cell_type": "code",
   "execution_count": 14,
   "id": "3eecfe1b-56c2-4d1a-a510-978539cfecdd",
   "metadata": {},
   "outputs": [
    {
     "name": "stdout",
     "output_type": "stream",
     "text": [
      "Found labels: ['powdery_mildew', 'healthy']\n",
      "\n",
      "✅ Dataset split complete.\n",
      "Train set: 4052 images\n",
      "Validation set: 1782 images\n",
      "Test set: 980 images\n"
     ]
    }
   ],
   "source": [
    "organize_dataset_into_subsets(\n",
    "    image_dir=\"inputs/cherry_leaves/cherry-leaves\",\n",
    "    output_dir=\"inputs/split-leaves\",\n",
    ")"
   ]
  },
  {
   "cell_type": "markdown",
   "id": "dcf83235-8f3f-47be-8675-a2a120767b1b",
   "metadata": {},
   "source": [
    "#### ℹ️ Note:\n",
    "A 70-20-10 split was chosen to ensure that the model has sufficient data to learn from (70%), while also providing enough examples to validate its performance during training (20%) and evaluate its generalization on unseen data (10%).\n"
   ]
  }
 ],
 "metadata": {
  "kernelspec": {
   "display_name": "Python 3 (ipykernel)",
   "language": "python",
   "name": "python3"
  },
  "language_info": {
   "codemirror_mode": {
    "name": "ipython",
    "version": 3
   },
   "file_extension": ".py",
   "mimetype": "text/x-python",
   "name": "python",
   "nbconvert_exporter": "python",
   "pygments_lexer": "ipython3",
   "version": "3.12.5"
  }
 },
 "nbformat": 4,
 "nbformat_minor": 5
}
