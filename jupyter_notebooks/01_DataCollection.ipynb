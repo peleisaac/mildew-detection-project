{
 "cells": [
  {
   "cell_type": "markdown",
   "id": "cd1c2b35-8615-4370-a30a-f6b3f89c14b9",
   "metadata": {},
   "source": [
    "## 📥 Data Collection\n",
    "\n",
    "This notebook handles the collection of the raw dataset used in this project.\n",
    "\n",
    "- The dataset is hosted on Kaggle and requires authentication via the Kaggle API.\n",
    "- We configure Kaggle credentials securely and download the dataset programmatically.\n",
    "- Once downloaded, the dataset is extracted from its zip archive and made ready for further analysis.\n",
    "\n",
    "This phase does **not** involve any modification or transformation of the data. The goal is to retrieve the dataset in its original form for inspection and preprocessing.\n",
    "\n",
    "### Objective\n",
    "Fetch data from the kaggle url and prepare it for further processes\n",
    "\n",
    "### Inputs\n",
    "Kaggle JSON file - the authentication token.\n",
    "\n",
    "### Outputs\n",
    "Generate Dataset: inputs/datasets/cherry_leaves"
   ]
  },
  {
   "cell_type": "markdown",
   "id": "ce5abcb4-25be-4760-aefb-d911a529ef0f",
   "metadata": {},
   "source": [
    "> ⚠️ This notebook assumes required packages are installed. Please run:\n",
    "\n",
    "> `pip install -r requirements.txt`\n",
    "\n",
    "> to install dependencies before proceeding."
   ]
  },
  {
   "cell_type": "markdown",
   "id": "18327354-bf11-4c08-a5fa-037fcd096173",
   "metadata": {},
   "source": [
    "### Import Dataset"
   ]
  },
  {
   "cell_type": "code",
   "execution_count": 2,
   "id": "6598c5ec-25db-40fc-bf09-72b51cf9c398",
   "metadata": {},
   "outputs": [],
   "source": [
    "import os"
   ]
  },
  {
   "cell_type": "code",
   "execution_count": 3,
   "id": "3cce74fb-9d2b-4d09-bf4f-bd2ecbf99d6b",
   "metadata": {},
   "outputs": [],
   "source": [
    "# Dynamically find the kaggle.json path\n",
    "config_path = os.path.join(os.getcwd(), \"jupyter_notebooks\", \"kaggle.json\")\n",
    "\n",
    "# Set Kaggle config env var\n",
    "os.environ['KAGGLE_CONFIG_DIR'] = os.path.dirname(config_path)\n",
    "\n",
    "# Apply permissions\n",
    "!chmod 600 jupyter_notebooks/kaggle.json"
   ]
  },
  {
   "cell_type": "markdown",
   "id": "0c6e459d-2d5d-4d68-ae86-287a41bd40a4",
   "metadata": {},
   "source": [
    "#### ℹ️ Note:\n",
    "Downloading the dataset from kaggle website to our defined destination folder."
   ]
  },
  {
   "cell_type": "code",
   "execution_count": 4,
   "id": "93852063-ca31-4c11-9825-66e7d676fea6",
   "metadata": {},
   "outputs": [
    {
     "name": "stdout",
     "output_type": "stream",
     "text": [
      "Dataset URL: https://www.kaggle.com/datasets/codeinstitute/cherry-leaves\n",
      "License(s): unknown\n",
      "Downloading cherry-leaves.zip to inputs/cherry_leaves\n",
      "  0%|                                               | 0.00/55.0M [00:00<?, ?B/s]\n",
      "100%|██████████████████████████████████████| 55.0M/55.0M [00:00<00:00, 1.95GB/s]\n"
     ]
    }
   ],
   "source": [
    "! kaggle datasets download -d \"codeinstitute/cherry-leaves\" -p \"inputs/cherry_leaves\""
   ]
  },
  {
   "cell_type": "markdown",
   "id": "7c3b338d-7851-43ca-a391-c6d693f89ca6",
   "metadata": {},
   "source": [
    "Unzip the downloaded file"
   ]
  },
  {
   "cell_type": "markdown",
   "id": "c4833cae-b248-4ef8-9f11-54ea2ed8c76a",
   "metadata": {},
   "source": [
    "**Unzip the downloaded files using the zipfile.**"
   ]
  },
  {
   "cell_type": "code",
   "execution_count": 5,
   "id": "6fdc4a82-ea41-4366-9883-d5a99d885959",
   "metadata": {},
   "outputs": [],
   "source": [
    "import zipfile\n",
    "with zipfile.ZipFile(\"inputs/cherry_leaves/cherry-leaves.zip\", 'r') as zip_ref:\n",
    "    zip_ref.extractall(\"inputs/cherry_leaves/\")"
   ]
  }
 ],
 "metadata": {
  "kernelspec": {
   "display_name": "Python 3 (ipykernel)",
   "language": "python",
   "name": "python3"
  },
  "language_info": {
   "codemirror_mode": {
    "name": "ipython",
    "version": 3
   },
   "file_extension": ".py",
   "mimetype": "text/x-python",
   "name": "python",
   "nbconvert_exporter": "python",
   "pygments_lexer": "ipython3",
   "version": "3.12.5"
  }
 },
 "nbformat": 4,
 "nbformat_minor": 5
}
