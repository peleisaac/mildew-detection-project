{
 "cells": [
  {
   "cell_type": "markdown",
   "id": "5603aefe-6c09-4f76-8faf-f3727f93e68d",
   "metadata": {},
   "source": [
    "## 03_DataCleaning.ipynb\n",
    "\n",
    "### 🎯 Objective\n",
    "Identify and remove corrupted or unreadable images from the dataset to ensure clean input for the modeling pipeline.\n",
    "\n",
    "### 🧩 Steps\n",
    "- Iterate through dataset folders\n",
    "- Attempt to open each image using `PIL`\n",
    "- Flag and list any corrupted or unreadable images\n",
    "- (Optionally) delete them\n",
    "\n",
    "#### ℹ️ Note:\n",
    "- PIL is used for the cleaning/validation step.\n",
    "- It’s more strict, which is better when you need to guarantee integrity of your dataset before training."
   ]
  },
  {
   "cell_type": "code",
   "execution_count": 9,
   "id": "54217415-98f3-454d-936c-bf244ea5d1ed",
   "metadata": {},
   "outputs": [],
   "source": [
    "from PIL import Image\n",
    "import os\n",
    "\n",
    "def find_invalid_images(folder_path):\n",
    "    corrupted_files = []\n",
    "\n",
    "    for label in os.listdir(folder_path):\n",
    "        if label.startswith('.'):  # Skip hidden/system folders\n",
    "            continue\n",
    "        label_path = os.path.join(folder_path, label)\n",
    "        if not os.path.isdir(label_path):\n",
    "            continue\n",
    "\n",
    "        for filename in os.listdir(label_path):\n",
    "            if filename.startswith('.'):  # Skip hidden/system files\n",
    "                continue\n",
    "            file_path = os.path.join(label_path, filename)\n",
    "            try:\n",
    "                with Image.open(file_path) as img:\n",
    "                    img.verify()  # Check if image can be opened\n",
    "            except Exception:\n",
    "                corrupted_files.append(file_path)\n",
    "\n",
    "    print(f\"Found {len(corrupted_files)} invalid image(s).\")\n",
    "    if corrupted_files:\n",
    "        print(\"Example invalid file(s):\")\n",
    "        print(\"\\n\".join(corrupted_files[:5]))\n",
    "    \n",
    "    return corrupted_files\n"
   ]
  },
  {
   "cell_type": "raw",
   "id": "e8de8c7d-a6bf-4776-85ad-6225005b40a0",
   "metadata": {},
   "source": [
    "#### I added the skip for labels with . files because i was getting the error:\n",
    "Found 1 invalid image(s).\n",
    "Example invalid file(s):\n",
    "../inputs/cherry_leaves/cherry-leaves/healthy/.ipynb_checkpoints\n",
    "\n",
    ".ipynb_checkpoints is a hidden folder Jupyter creates in every folder created so ..."
   ]
  },
  {
   "cell_type": "code",
   "execution_count": 10,
   "id": "b4e619e6-9e74-4021-ba28-fbbf910b09fb",
   "metadata": {},
   "outputs": [
    {
     "name": "stdout",
     "output_type": "stream",
     "text": [
      "Found 0 invalid image(s).\n"
     ]
    }
   ],
   "source": [
    "corrupted_files = find_invalid_images(\"../inputs/cherry_leaves/cherry-leaves\")"
   ]
  },
  {
   "cell_type": "markdown",
   "id": "d807a746-e017-4aac-89c4-501ae1223fd0",
   "metadata": {},
   "source": [
    "#### ℹ️ Note:\n",
    "Since there were no invalid images found, there was no need for me to implement a delete."
   ]
  }
 ],
 "metadata": {
  "kernelspec": {
   "display_name": "Python 3 (ipykernel)",
   "language": "python",
   "name": "python3"
  },
  "language_info": {
   "codemirror_mode": {
    "name": "ipython",
    "version": 3
   },
   "file_extension": ".py",
   "mimetype": "text/x-python",
   "name": "python",
   "nbconvert_exporter": "python",
   "pygments_lexer": "ipython3",
   "version": "3.12.5"
  }
 },
 "nbformat": 4,
 "nbformat_minor": 5
}
